{
 "cells": [
  {
   "cell_type": "markdown",
   "id": "836006c7",
   "metadata": {},
   "source": [
    "## EXERCICE 1 Réseau de neurone\n",
    "\n",
    "\n",
    "1/ Créer une liste X = [x1, x2, x3, x4]  avec x1=1 ; x2=-3.1; x3=-7.2 ; x4=2.1\n",
    "\t\tCréer une fonction linéaire lin_reg1 qui prend en paramètre  la liste X avec les poids\n",
    "\t\tw1=2.1 ; w2=1.2; w3=0.3; w4=1.3 et le biais b = -3 et effectue la combinaison linéaire\n",
    "\t\td’après le schéma précédent\n"
   ]
  },
  {
   "cell_type": "code",
   "execution_count": 44,
   "id": "80870100",
   "metadata": {},
   "outputs": [],
   "source": [
    "import math"
   ]
  },
  {
   "cell_type": "code",
   "execution_count": 62,
   "id": "f52028b5",
   "metadata": {},
   "outputs": [],
   "source": [
    "# J'ai aussi crée un liste avec les poids, pour éviter de re écrire une fonction à chaque fois que les poids changent.\n",
    "X = [1,-3.1,-7.2,2.1]\n",
    "w1 = [2.1,1.2,0.3,1.3]\n",
    "b1 =-3"
   ]
  },
  {
   "cell_type": "code",
   "execution_count": 63,
   "id": "2419b21b",
   "metadata": {},
   "outputs": [],
   "source": [
    "def lin_reg(X,w,b): \n",
    "    y = X[0]*w[0]+X[1]*w[1]+X[2]*w[2]+X[3]*w[3]+b\n",
    "    \n",
    "    return y\n"
   ]
  },
  {
   "cell_type": "code",
   "execution_count": 64,
   "id": "6f027098",
   "metadata": {},
   "outputs": [
    {
     "data": {
      "text/plain": [
       "-4.049999999999999"
      ]
     },
     "execution_count": 64,
     "metadata": {},
     "output_type": "execute_result"
    }
   ],
   "source": [
    "lin_reg(X,w1,b1)"
   ]
  },
  {
   "cell_type": "code",
   "execution_count": 65,
   "id": "998dfe0d",
   "metadata": {},
   "outputs": [],
   "source": [
    "# test d'une autre méthode pour faire la fonction, peut être utile si la liste de X est très grande.\n",
    "\n",
    "def lin_reg_bis(X,w,b):\n",
    "    a = 0\n",
    "    \n",
    "    for x in range(len(X)):\n",
    "        a += X[x]*w[x]\n",
    "         \n",
    "    y = a + b\n",
    "    return y\n",
    "        "
   ]
  },
  {
   "cell_type": "code",
   "execution_count": 66,
   "id": "f8930f1f",
   "metadata": {},
   "outputs": [
    {
     "data": {
      "text/plain": [
       "-4.049999999999999"
      ]
     },
     "execution_count": 66,
     "metadata": {},
     "output_type": "execute_result"
    }
   ],
   "source": [
    "lin_reg_bis(X,w1,b1)"
   ]
  },
  {
   "cell_type": "markdown",
   "id": "187455a8",
   "metadata": {},
   "source": [
    "2/. Créer une fonction d’activation activation qui prend en paramètre une variable x \n",
    "\t\tet retourne x si x est positif et 0 sinon. On l’appelle la Relu.\n",
    "\t\t\n",
    "\t\tCalculer y d’après le schéma précédent et nommer le out_1 "
   ]
  },
  {
   "cell_type": "code",
   "execution_count": 67,
   "id": "5ead8ebf",
   "metadata": {},
   "outputs": [],
   "source": [
    "def relu(x):\n",
    "    if x>0:\n",
    "        return x\n",
    "    else:\n",
    "        return 0"
   ]
  },
  {
   "cell_type": "code",
   "execution_count": 68,
   "id": "64705a26",
   "metadata": {},
   "outputs": [],
   "source": [
    "out_1 = relu(lin_reg(X,w1,b1))"
   ]
  },
  {
   "cell_type": "code",
   "execution_count": 69,
   "id": "5773df7d",
   "metadata": {},
   "outputs": [
    {
     "name": "stdout",
     "output_type": "stream",
     "text": [
      "0\n"
     ]
    }
   ],
   "source": [
    "print(out_1)"
   ]
  },
  {
   "cell_type": "markdown",
   "id": "6fb29057",
   "metadata": {},
   "source": [
    "3/ Maintenant construisons une autre sortie\n",
    "\n",
    "En appliquant une autre régression linaire  linreg_2 sur  la même entrée X et les poids \n",
    "w1=0.1 ; w2=1.2; w3=4.9; w4=3.1 et le biais b = -5\n",
    "Suivie par la même fonction d’activation activation\n",
    "\n",
    "ET une troisième sortie linreg_3   sur  la même entrée X et les poids \n",
    "w1=0.4 ; w2=2.6; w3=2.5; w4=3.8 et le biais b = -8\n",
    "Suivie par la même fonction d’activation activation"
   ]
  },
  {
   "cell_type": "code",
   "execution_count": 70,
   "id": "338be511",
   "metadata": {},
   "outputs": [],
   "source": [
    "w2 = [0.1,1.2,4.9,3.1] \n",
    "b2 = -5"
   ]
  },
  {
   "cell_type": "code",
   "execution_count": 71,
   "id": "b8699fee",
   "metadata": {},
   "outputs": [
    {
     "name": "stdout",
     "output_type": "stream",
     "text": [
      "-37.39\n",
      "0\n"
     ]
    }
   ],
   "source": [
    "out_2 = relu(lin_reg(X,w2,b2))\n",
    "print(lin_reg(X,w2,b2))\n",
    "print(out_2)"
   ]
  },
  {
   "cell_type": "code",
   "execution_count": 72,
   "id": "853dc95a",
   "metadata": {},
   "outputs": [],
   "source": [
    "w3 = [0.4,2.6,2.5,3.8] \n",
    "b3 = -8"
   ]
  },
  {
   "cell_type": "code",
   "execution_count": 73,
   "id": "ca286156",
   "metadata": {},
   "outputs": [
    {
     "name": "stdout",
     "output_type": "stream",
     "text": [
      "-25.68\n",
      "0\n"
     ]
    }
   ],
   "source": [
    "out_3 = relu(lin_reg(X,w3,b3))\n",
    "print(lin_reg(X,w3,b3))\n",
    "print(out_3)"
   ]
  },
  {
   "cell_type": "markdown",
   "id": "acfc128c",
   "metadata": {},
   "source": [
    "4/ utilisez les 3 sorties de cette couche comme entrées d’une autre couche\n",
    "\n",
    "\n",
    "Pour effectuer la combinaison linéaire,  implémentez la fonction linreg_next_layer  \n",
    "avec les poids et les poids w1=1.1 ; w2=-4.1; w3=0.7 et le biais b = 5.1\n",
    "\n",
    "Pour cette dernière couche, implémentez la dernière fonction d’activation \n",
    "activation_next_layer qui retourne 1/( 1 + exp(-x) ) : c’est la sigmoide\n",
    "\n",
    "Calculer donc la sortie y_pred de cette couche "
   ]
  },
  {
   "cell_type": "code",
   "execution_count": 74,
   "id": "956d2e1b",
   "metadata": {},
   "outputs": [],
   "source": [
    "w4 = [1.1,-4.1,0.7]\n",
    "b4 = 5.1\n",
    "out = [out_1, out_2, out_3]"
   ]
  },
  {
   "cell_type": "code",
   "execution_count": 75,
   "id": "103b5dc6",
   "metadata": {},
   "outputs": [],
   "source": [
    "def linreg_next_layer(out,w,b):\n",
    "    y = out[0]*w[0]+out[1]*w[1]+out[2]*w[2]+b\n",
    "    \n",
    "    return y"
   ]
  },
  {
   "cell_type": "code",
   "execution_count": 76,
   "id": "3253be62",
   "metadata": {},
   "outputs": [],
   "source": [
    "def activation_next_layer(x):\n",
    "    y = 1/(1+math.exp(-x))\n",
    "    \n",
    "    return y"
   ]
  },
  {
   "cell_type": "code",
   "execution_count": 77,
   "id": "3424c3be",
   "metadata": {},
   "outputs": [],
   "source": [
    "y_pred = activation_next_layer(linreg_next_layer(out,w4,b4))"
   ]
  },
  {
   "cell_type": "code",
   "execution_count": 78,
   "id": "6c10d4d4",
   "metadata": {},
   "outputs": [
    {
     "name": "stdout",
     "output_type": "stream",
     "text": [
      "0.9939401985084158\n"
     ]
    }
   ],
   "source": [
    "print(y_pred)"
   ]
  },
  {
   "cell_type": "markdown",
   "id": "bc81ce07",
   "metadata": {},
   "source": [
    "🎉 Félicitations! Vous venez d’implementer votre premier reseau de neurone ( artificiel)"
   ]
  },
  {
   "cell_type": "code",
   "execution_count": null,
   "id": "5f7c94c5",
   "metadata": {},
   "outputs": [],
   "source": []
  }
 ],
 "metadata": {
  "kernelspec": {
   "display_name": "Python 3 (ipykernel)",
   "language": "python",
   "name": "python3"
  },
  "language_info": {
   "codemirror_mode": {
    "name": "ipython",
    "version": 3
   },
   "file_extension": ".py",
   "mimetype": "text/x-python",
   "name": "python",
   "nbconvert_exporter": "python",
   "pygments_lexer": "ipython3",
   "version": "3.10.9"
  }
 },
 "nbformat": 4,
 "nbformat_minor": 5
}
